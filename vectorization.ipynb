{
 "cells": [
  {
   "cell_type": "markdown",
   "id": "0a8c463d-1064-4667-bac7-e6dc11ea26d9",
   "metadata": {},
   "source": [
    "# Vectorization\n"
   ]
  },
  {
   "cell_type": "code",
   "execution_count": 1,
   "id": "275d8cae-1402-4c8f-a8d6-32ace5c488e6",
   "metadata": {},
   "outputs": [],
   "source": [
    "#import libraries \n",
    "import numpy as np\n",
    "import time"
   ]
  },
  {
   "cell_type": "markdown",
   "id": "8a2ab929-d597-4f2a-bcd7-ba7d43c46047",
   "metadata": {},
   "source": [
    "#  Vector Creation\n",
    "Data creation routines in NumPy will generally have a first parameter which is the shape of the object. This can either be a single value for a 1-D result or a tuple (n,m,...) specifying the shape of the result. Below are examples of creating vectors using these routines."
   ]
  },
  {
   "cell_type": "code",
   "execution_count": 2,
   "id": "9dbaa5f2-cf66-4f7c-9067-8c0d70cb2d07",
   "metadata": {},
   "outputs": [
    {
     "name": "stdout",
     "output_type": "stream",
     "text": [
      "np.zeros(4) : a = [0. 0. 0. 0.], a shape = (4,),a data type = float64\n",
      "np.zeros(4,0) : a = [0. 0. 0. 0.], a shape = (4,),a data type = float64\n",
      "np.random.random_sample(4): a = [0.81005246 0.50390559 0.85441247 0.22352274], a shape = (4,),a data type = float64\n"
     ]
    }
   ],
   "source": [
    "#Numpy routines wich alloccate memory and fill arrays with value\n",
    "a = np.zeros(4);   print(f\"np.zeros(4) : a = {a}, a shape = {a.shape},a data type = {a.dtype}\")\n",
    "a = np.zeros((4,)) ; print(f\"np.zeros(4,0) : a = {a}, a shape = {a.shape},a data type = {a.dtype}\")\n",
    "a = np.random.random_sample(4); print(f\"np.random.random_sample(4): a = {a}, a shape = {a.shape},a data type = {a.dtype}\")"
   ]
  },
  {
   "cell_type": "code",
   "execution_count": 3,
   "id": "b3a588b9-ada6-4f8f-8732-5bbc7678993b",
   "metadata": {},
   "outputs": [
    {
     "name": "stdout",
     "output_type": "stream",
     "text": [
      "np.arange(4.):  a = [0. 1. 2. 3.], a shape = (4,), a data type = float64\n",
      "np.random.rand(4): a = [0.29068458 0.84192593 0.16697825 0.70616932], a shape = (4,), a data type = float64\n"
     ]
    }
   ],
   "source": [
    "# Numpy routines which allocate memory and fill arrays with value but do not accept shape as input argument\n",
    "a = np.arange(4.);     print(f\"np.arange(4.):  a = {a}, a shape = {a.shape}, a data type = {a.dtype}\")\n",
    "a = np.random.rand(4);  print(f\"np.random.rand(4): a = {a}, a shape = {a.shape}, a data type = {a.dtype}\")"
   ]
  },
  {
   "cell_type": "code",
   "execution_count": 4,
   "id": "0dfd7f9d-6c4f-42b5-8797-8801a1a463be",
   "metadata": {},
   "outputs": [
    {
     "name": "stdout",
     "output_type": "stream",
     "text": [
      "np.array([5,4,3,2]): a = [5 4 3 2],  a shape = (4,), a data type = int64\n",
      "np.array([5., 4, 3,2]): a = [5. 4. 3. 2.], a shape = (4,), a data type = float64\n"
     ]
    }
   ],
   "source": [
    "#Numpy routine which allocate memory and fill with user specified values\n",
    "a = np.array([5,4,3,2]); print(f\"np.array([5,4,3,2]): a = {a},  a shape = {a.shape}, a data type = {a.dtype}\")\n",
    "a = np.array([5., 4, 3,2]); print(f\"np.array([5., 4, 3,2]): a = {a}, a shape = {a.shape}, a data type = {a.dtype}\")"
   ]
  },
  {
   "cell_type": "markdown",
   "id": "66f5462e-61ef-4ef0-8083-eda91e7bcad7",
   "metadata": {},
   "source": [
    "# Operations on Vectors\n",
    "Let's explore some operations using vectors.\n",
    "\n",
    "# Indexing\n",
    "Elements of vectors can be accessed via indexing and slicing. NumPy provides a very complete set of indexing and slicing capabilities. We will explore only the basics needed for the course here. Reference Slicing and Indexing for more details.\n",
    "Indexing means referring to an element of an array by its position within the array.\n",
    "Slicing means getting a subset of elements from an array based on their indices.\n",
    "NumPy starts indexing at zero so the 3rd element of an vector  a\n",
    "  is a[2]."
   ]
  },
  {
   "cell_type": "code",
   "execution_count": 6,
   "id": "2a0dc73f-6570-4276-8dc5-6d80e9b11360",
   "metadata": {},
   "outputs": [
    {
     "name": "stdout",
     "output_type": "stream",
     "text": [
      "a[2].shape: ()  a[2]  = 2, Accessing an element returns a scalar\n",
      "a[-1] = 9\n",
      "The error message you'll see is :\n",
      "index 10 is out of bounds for axis 0 with size 10\n"
     ]
    }
   ],
   "source": [
    "#vector indexing operations on 1-D vectors\n",
    "a = np.arange(10)\n",
    "\n",
    "#access an element\n",
    "print(f\"a[2].shape: {a[2].shape}  a[2]  = {a[2]}, Accessing an element returns a scalar\")\n",
    "\n",
    "#access the last element, negative indexes count from the end\n",
    "print(f\"a[-1] = {a [-1]}\")\n",
    "\n",
    "#indexs must be within the range of the vector or they will produce and error\n",
    "try:\n",
    "    c = a[10]\n",
    "except Exception as e:\n",
    "    print(\"The error message you'll see is :\")\n",
    "    print(e)"
   ]
  },
  {
   "cell_type": "markdown",
   "id": "1750de4e-03a0-4ac3-b0d7-332600b00d96",
   "metadata": {},
   "source": [
    "#  Slicing\n",
    "Slicing creates an array of indices using a set of three values (start:stop:step). A subset of values is also valid. Its use is best explained by example:"
   ]
  },
  {
   "cell_type": "code",
   "execution_count": 12,
   "id": "82c029f8-956f-42b0-ac2e-99aacd13b381",
   "metadata": {},
   "outputs": [
    {
     "name": "stdout",
     "output_type": "stream",
     "text": [
      "a      = [0 1 2 3 4 5 6 7 8 9]\n",
      "a[2:7:1]    =  [2 3 4 5 6]\n",
      "a[2:7:2]    =  [2 4 6]\n",
      "a[3:]       =  [0 1 2]\n",
      "a[:3]       =  [0 1 2]\n",
      "a [:]       =  [0 1 2 3 4 5 6 7 8 9]\n"
     ]
    }
   ],
   "source": [
    "#vector slicing operations\n",
    "a = np.arange(10)\n",
    "\n",
    "print(f\"a      = {a}\")\n",
    "\n",
    "#access 5 consecutive elements (start: stop: step)\n",
    "c = a[2:7:1];   print(\"a[2:7:1]    = \", c)\n",
    "\n",
    "#access 3 elements separated by two\n",
    "c = a[2:7:2];   print(\"a[2:7:2]    = \", c)\n",
    "\n",
    "#access all elements index 3 and above\n",
    "c = a[:3];      print(\"a[3:]       = \", c)\n",
    "\n",
    "#access all elements below index 3\n",
    "c = a[:3];      print(\"a[:3]       = \", c)\n",
    "\n",
    "#access all elements\n",
    "c = a[:];       print(\"a [:]       = \", c)"
   ]
  },
  {
   "cell_type": "markdown",
   "id": "67ebc875-0c03-4ce6-a5d8-3edeeea06cfb",
   "metadata": {},
   "source": [
    "# Single vector operations\n",
    "There are a number of useful operations that involve operations on a single vector."
   ]
  },
  {
   "cell_type": "code",
   "execution_count": 15,
   "id": "34fdf9f4-afe4-4d5f-81f7-2ab4931df4c4",
   "metadata": {},
   "outputs": [
    {
     "name": "stdout",
     "output_type": "stream",
     "text": [
      "a                : [1 2 3 4]\n",
      "b = -a           : [-1 -2 -3 -4]\n",
      "b = np.sum(a)    : 10\n",
      "b = np.mean(a)   : 2.5\n",
      "b = a**2         : [ 1  4  9 16]\n"
     ]
    }
   ],
   "source": [
    "a = np.array([1,2,3,4])\n",
    "print(f\"a                : {a}\")\n",
    "#negative elements of a \n",
    "b = -a\n",
    "print(f\"b = -a           : {b}\")\n",
    "\n",
    "#sum all elements of a returns a scalar\n",
    "b = np.sum(a)\n",
    "print(f\"b = np.sum(a)    : {b}\")\n",
    "\n",
    "b = np.mean(a)\n",
    "print(f\"b = np.mean(a)   : {b}\")\n",
    "\n",
    "b = a**2 \n",
    "print(f\"b = a**2         : {b}\")"
   ]
  },
  {
   "cell_type": "markdown",
   "id": "94ed4d60-68fa-4ff7-9f56-7b021f8b1489",
   "metadata": {},
   "source": [
    "# Vector Vector element-wise operations\n",
    "Most of the Numpy arithmetic, logical and comparison operations apply to vectors as well. These operators works on an element-by-element basis."
   ]
  },
  {
   "cell_type": "code",
   "execution_count": 16,
   "id": "63496a7b-51bd-4817-88d9-49aaa69ab8f0",
   "metadata": {},
   "outputs": [
    {
     "name": "stdout",
     "output_type": "stream",
     "text": [
      "Binary operators work element wise: [0 0 6 8]\n"
     ]
    }
   ],
   "source": [
    "a = np.array([1,2,3,4])\n",
    "b = np.array([-1,-2,3,4])\n",
    "print(f\"Binary operators work element wise: {a + b }\")\n"
   ]
  },
  {
   "cell_type": "markdown",
   "id": "61843f9d-4a5f-4c2b-9f1b-deb59ee07f19",
   "metadata": {},
   "source": [
    "for this to work correctly, the vectors must be the same size."
   ]
  },
  {
   "cell_type": "code",
   "execution_count": 17,
   "id": "1b68cf74-5328-4917-829f-9b7c1745561b",
   "metadata": {},
   "outputs": [
    {
     "name": "stdout",
     "output_type": "stream",
     "text": [
      "The error message you'll see is: \n",
      "operands could not be broadcast together with shapes (4,) (2,) \n"
     ]
    }
   ],
   "source": [
    "# try a mismatched vector operation\n",
    "c = np.array([1,2])\n",
    "try:\n",
    "    d = a +c\n",
    "except Exception as e:\n",
    "    print(\"The error message you'll see is: \")\n",
    "    print(e)"
   ]
  },
  {
   "cell_type": "markdown",
   "id": "9139c475-d33a-4bc6-b73d-2321a4057c18",
   "metadata": {},
   "source": [
    "# Scalar Vector Operations\n",
    "\n",
    "Vectors can be 'scaled' by scalar values . A scalar values is a just number.The scalar multiples all the elements of the vector."
   ]
  },
  {
   "cell_type": "code",
   "execution_count": 19,
   "id": "fac99c38-d6b6-4131-ae5c-4521a1421c0c",
   "metadata": {},
   "outputs": [
    {
     "name": "stdout",
     "output_type": "stream",
     "text": [
      "b = 5 * a : [ 5 10 15 20]\n"
     ]
    }
   ],
   "source": [
    "a = np.array([1,2,3,4])\n",
    "\n",
    "#multiply a by a scalar\n",
    "b = 5 * a\n",
    "print(f\"b = 5 * a : {b}\")"
   ]
  },
  {
   "cell_type": "markdown",
   "id": "a489c750-00cf-469c-ac59-a7c7e152d150",
   "metadata": {},
   "source": [
    "# Vector Vector dot product\n",
    "The dot product is a mainstay of linear Algebra and Numpy. \n",
    "\n",
    "The dot product multiplies the values in two vectors element-wise and then sums the result. Vector dot product requires the dimensions of the two vectors to be the same."
   ]
  },
  {
   "cell_type": "code",
   "execution_count": 20,
   "id": "ed8f49fc-3b79-4c92-a81d-8569bc6c3e91",
   "metadata": {},
   "outputs": [],
   "source": [
    "def my_dot(a, b):\n",
    "    x = 0\n",
    "    for i in range(a.shape [0]):\n",
    "        x = x + a[i] * b[i]\n",
    "    return x\n",
    "        "
   ]
  },
  {
   "cell_type": "markdown",
   "id": "7c2fd3b2-f7da-4fef-bf98-fb24c0c4c07b",
   "metadata": {},
   "source": [
    " Compute the dot product of two vectors\n",
    " \n",
    "    Args:\n",
    "      a (ndarray (n,)):  input vector \n",
    "      b (ndarray (n,)):  input vector with same dimension as a\n",
    "    \n",
    "    Returns:\n",
    "      x (scalar): "
   ]
  },
  {
   "cell_type": "code",
   "execution_count": 21,
   "id": "7c982bfc-37b6-4c2f-960f-5717c1878247",
   "metadata": {},
   "outputs": [
    {
     "name": "stdout",
     "output_type": "stream",
     "text": [
      "my_dot(a, b) = 24\n"
     ]
    }
   ],
   "source": [
    "# test 1-D\n",
    "a = np.array([1,2,3,4])\n",
    "b = np.array([-1,4,3,2])\n",
    "print(f\"my_dot(a, b) = {my_dot(a,b)}\")"
   ]
  },
  {
   "cell_type": "markdown",
   "id": "ba78ceac-b447-478f-9cab-75d517ad95ee",
   "metadata": {},
   "source": [
    "the dot product is expected to return a scalar value.\n",
    "\n",
    "Let's try the same operations using np.dot."
   ]
  },
  {
   "cell_type": "code",
   "execution_count": 22,
   "id": "c2044ff6-f16d-4496-82e4-87dae1dfff98",
   "metadata": {},
   "outputs": [
    {
     "name": "stdout",
     "output_type": "stream",
     "text": [
      "Numpy 1-D np.dot(a,b) = 24, np.dot(a,b).shape = ()\n",
      "Numpy 1-D np.dot(b,a) = 24, np.dot(a,b).shape = ()\n"
     ]
    }
   ],
   "source": [
    "# test 1-D\n",
    "a = np.array([1,2,3,4])\n",
    "b = np.array([-1,4,3,2])\n",
    "c = np.dot(a,b)\n",
    "print(f\"Numpy 1-D np.dot(a,b) = {c}, np.dot(a,b).shape = {c.shape}\")\n",
    "c = np.dot(b, a)\n",
    "print(f\"Numpy 1-D np.dot(b,a) = {c}, np.dot(a,b).shape = {c.shape}\")"
   ]
  },
  {
   "cell_type": "markdown",
   "id": "c6e1b511-5886-4d09-9b61-e084cb2f0717",
   "metadata": {},
   "source": [
    "Above, you will note that the results for 1-D matched our implementation.\n",
    "\n",
    "# The Need for Speed: vector vs for loop\n",
    "We utilized the NumPy library because it improves speed memory efficiency. Let's demonstrate:"
   ]
  },
  {
   "cell_type": "code",
   "execution_count": 26,
   "id": "a3d48751-9143-44d4-8411-ca911fe4120d",
   "metadata": {},
   "outputs": [
    {
     "name": "stdout",
     "output_type": "stream",
     "text": [
      "np.dot(a, b) =  2501072.5817\n",
      "Vectorized version duration: 21.5981 ms \n",
      "my_dot(a, b) =  2501072.5817\n",
      "loop version duration: 1249.0351 ms \n"
     ]
    }
   ],
   "source": [
    "np.random.seed(1)\n",
    "a = np.random.rand(10000000)  # very large arrays\n",
    "b = np.random.rand(10000000)\n",
    "\n",
    "tic = time.time()  # capture start time\n",
    "c = np.dot(a, b)\n",
    "toc = time.time()  # capture end time\n",
    "\n",
    "print(f\"np.dot(a, b) =  {c:.4f}\")\n",
    "print(f\"Vectorized version duration: {1000*(toc-tic):.4f} ms \")\n",
    "\n",
    "tic = time.time()  # capture start time\n",
    "c = my_dot(a,b)\n",
    "toc = time.time()  # capture end time\n",
    "\n",
    "print(f\"my_dot(a, b) =  {c:.4f}\")\n",
    "print(f\"loop version duration: {1000*(toc-tic):.4f} ms \")\n",
    "\n",
    "del(a);del(b)  #remove these big arrays from memory"
   ]
  },
  {
   "cell_type": "markdown",
   "id": "1d58901f-d5d9-452f-b794-6baf2babac5d",
   "metadata": {},
   "source": [
    "So, vectorization provides a large speed up in this example. This is because NumPy makes better use of available data parallelism in the underlying hardware. GPU's and modern CPU's implement Single Instruction, Multiple Data (SIMD) pipelines allowing multiple operations to be issued in parallel. This is critical in Machine Learning where the data sets are often very large."
   ]
  },
  {
   "cell_type": "markdown",
   "id": "f49b19fb-5372-4d19-82b9-8a46b7e6a731",
   "metadata": {},
   "source": [
    "# Matrix Creation\n",
    "The same functions that created 1-D vectors will create 2-D or n-D arrays."
   ]
  },
  {
   "cell_type": "code",
   "execution_count": 28,
   "id": "9c7b501e-d82a-4a44-be62-22666e8bfacb",
   "metadata": {},
   "outputs": [
    {
     "name": "stdout",
     "output_type": "stream",
     "text": [
      "a shape = (1, 5), a = [[0. 0. 0. 0. 0.]]\n",
      "a shape = (2, 1), a = [[0.]\n",
      " [0.]]\n",
      "a shape = (1, 1), a = [[0.44236513]]\n"
     ]
    }
   ],
   "source": [
    "a = np.zeros((1,5))\n",
    "print(f\"a shape = {a.shape}, a = {a}\")\n",
    "\n",
    "a = np.zeros((2, 1))\n",
    "print(f\"a shape = {a.shape}, a = {a}\")\n",
    "\n",
    "a = np.random.random_sample((1,1))\n",
    "print(f\"a shape = {a.shape}, a = {a}\")"
   ]
  },
  {
   "cell_type": "markdown",
   "id": "790cef20-e11e-4bb8-b3be-ba86cdaa65d5",
   "metadata": {},
   "source": [
    "One can also manually specify data. Dimensions are specified with additional brackets matching the format in the printing above."
   ]
  },
  {
   "cell_type": "code",
   "execution_count": 29,
   "id": "9340a6fd-bf3e-496f-bc8a-cb16285e929a",
   "metadata": {},
   "outputs": [
    {
     "name": "stdout",
     "output_type": "stream",
     "text": [
      " a shape = (3, 1), np.array: a = [[5]\n",
      " [4]\n",
      " [3]]\n",
      " a shape = (3, 1), np.array: a = [[5]\n",
      " [4]\n",
      " [3]]\n"
     ]
    }
   ],
   "source": [
    "# NumPy routines which allocate memory and fill with user specified values\n",
    "a = np.array([[5], [4], [3]]);   print(f\" a shape = {a.shape}, np.array: a = {a}\")\n",
    "a = np.array([[5],   # One can also\n",
    "              [4],   # separate values\n",
    "              [3]]); #into separate rows\n",
    "print(f\" a shape = {a.shape}, np.array: a = {a}\")"
   ]
  },
  {
   "cell_type": "code",
   "execution_count": 30,
   "id": "32ee54a6-ce95-45a6-92bb-291c497bf51c",
   "metadata": {},
   "outputs": [
    {
     "name": "stdout",
     "output_type": "stream",
     "text": [
      "a.shape: (3, 2), \n",
      "a= [[0 1]\n",
      " [2 3]\n",
      " [4 5]]\n",
      "\n",
      "a[2,0].shape:   (), a[2,0] = 4,     type(a[2,0]) = <class 'numpy.int64'> Accessing an element returns a scalar\n",
      "\n",
      "a[2].shape:   (2,), a[2]   = [4 5], type(a[2])   = <class 'numpy.ndarray'>\n"
     ]
    }
   ],
   "source": [
    "#vector indexing operations on matrices\n",
    "a = np.arange(6).reshape(-1, 2)   #reshape is a convenient way to create matrices\n",
    "print(f\"a.shape: {a.shape}, \\na= {a}\")\n",
    "\n",
    "#access an element\n",
    "print(f\"\\na[2,0].shape:   {a[2, 0].shape}, a[2,0] = {a[2, 0]},     type(a[2,0]) = {type(a[2, 0])} Accessing an element returns a scalar\\n\")\n",
    "\n",
    "#access a row\n",
    "print(f\"a[2].shape:   {a[2].shape}, a[2]   = {a[2]}, type(a[2])   = {type(a[2])}\")"
   ]
  },
  {
   "cell_type": "markdown",
   "id": "cf0e9e6a-8e11-43ba-8820-77a282b571b1",
   "metadata": {},
   "source": [
    "# Slicing\n",
    "Slicing creates an array of indices using a set of three values (start:stop:step). A subset of values is also valid. Its use is best explained by example:"
   ]
  },
  {
   "cell_type": "code",
   "execution_count": 31,
   "id": "d6cc3650-c94c-43b1-bb1b-0fb911cf4611",
   "metadata": {},
   "outputs": [
    {
     "name": "stdout",
     "output_type": "stream",
     "text": [
      "a = \n",
      "[[ 0  1  2  3  4  5  6  7  8  9]\n",
      " [10 11 12 13 14 15 16 17 18 19]]\n",
      "a[0, 2:7:1] =  [2 3 4 5 6] ,  a[0, 2:7:1].shape = (5,) a 1-D array\n",
      "a[:, 2:7:1] = \n",
      " [[ 2  3  4  5  6]\n",
      " [12 13 14 15 16]] ,  a[:, 2:7:1].shape = (2, 5) a 2-D array\n",
      "a[:,:] = \n",
      " [[ 0  1  2  3  4  5  6  7  8  9]\n",
      " [10 11 12 13 14 15 16 17 18 19]] ,  a[:,:].shape = (2, 10)\n",
      "a[1,:] =  [10 11 12 13 14 15 16 17 18 19] ,  a[1,:].shape = (10,) a 1-D array\n",
      "a[1]   =  [10 11 12 13 14 15 16 17 18 19] ,  a[1].shape   = (10,) a 1-D array\n"
     ]
    }
   ],
   "source": [
    "#vector 2-D slicing operations\n",
    "a = np.arange(20).reshape(-1, 10)\n",
    "print(f\"a = \\n{a}\")\n",
    "\n",
    "#access 5 consecutive elements (start:stop:step)\n",
    "print(\"a[0, 2:7:1] = \", a[0, 2:7:1], \",  a[0, 2:7:1].shape =\", a[0, 2:7:1].shape, \"a 1-D array\")\n",
    "\n",
    "#access 5 consecutive elements (start:stop:step) in two rows\n",
    "print(\"a[:, 2:7:1] = \\n\", a[:, 2:7:1], \",  a[:, 2:7:1].shape =\", a[:, 2:7:1].shape, \"a 2-D array\")\n",
    "\n",
    "# access all elements\n",
    "print(\"a[:,:] = \\n\", a[:,:], \",  a[:,:].shape =\", a[:,:].shape)\n",
    "\n",
    "# access all elements in one row (very common usage)\n",
    "print(\"a[1,:] = \", a[1,:], \",  a[1,:].shape =\", a[1,:].shape, \"a 1-D array\")\n",
    "# same as\n",
    "print(\"a[1]   = \", a[1],   \",  a[1].shape   =\", a[1].shape, \"a 1-D array\")"
   ]
  },
  {
   "cell_type": "code",
   "execution_count": null,
   "id": "5d162d67-0f44-4d84-ba81-c00bbe652d40",
   "metadata": {},
   "outputs": [],
   "source": []
  }
 ],
 "metadata": {
  "kernelspec": {
   "display_name": "Python 3 (ipykernel)",
   "language": "python",
   "name": "python3"
  },
  "language_info": {
   "codemirror_mode": {
    "name": "ipython",
    "version": 3
   },
   "file_extension": ".py",
   "mimetype": "text/x-python",
   "name": "python",
   "nbconvert_exporter": "python",
   "pygments_lexer": "ipython3",
   "version": "3.11.5"
  }
 },
 "nbformat": 4,
 "nbformat_minor": 5
}
